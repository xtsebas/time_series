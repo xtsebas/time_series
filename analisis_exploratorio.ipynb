{
 "cells": [
  {
   "cell_type": "code",
   "execution_count": 1,
   "id": "09e7686a",
   "metadata": {},
   "outputs": [],
   "source": [
    "import os\n",
    "import pandas as pd"
   ]
  },
  {
   "cell_type": "code",
   "execution_count": 6,
   "id": "25945424",
   "metadata": {},
   "outputs": [
    {
     "name": "stdout",
     "output_type": "stream",
     "text": [
      "Listo: data/importacion.csv y data/consumo.csv creados sin header ni footer.\n"
     ]
    }
   ],
   "source": [
    "# Ruta a tu archivo Excel\n",
    "excel_file = './data/Estadisticas_historicas_comercializacion.xlsx'\n",
    "\n",
    "os.makedirs('data', exist_ok=True)\n",
    "\n",
    "# ajusta estos valores según tu archivo:\n",
    "skip_top = 6     # filas de encabezado a omitir\n",
    "skip_bottom = 3  # filas de pie de página a omitir\n",
    "\n",
    "df_import = pd.read_excel(\n",
    "    excel_file,\n",
    "    sheet_name='IMPORTACION',\n",
    "    engine='openpyxl',\n",
    "    skiprows=skip_top,\n",
    "    skipfooter=skip_bottom\n",
    ")\n",
    "df_consumo = pd.read_excel(\n",
    "    excel_file,\n",
    "    sheet_name='CONSUMO',\n",
    "    engine='openpyxl',\n",
    "    skiprows=skip_top,\n",
    "    skipfooter=skip_bottom\n",
    ")\n",
    "\n",
    "df_import.to_csv('data/importacion.csv', index=False, encoding='utf-8-sig')\n",
    "df_consumo.to_csv('data/consumo.csv',    index=False, encoding='utf-8-sig')\n",
    "\n",
    "print(\"Listo: data/importacion.csv y data/consumo.csv creados sin header ni footer.\")"
   ]
  }
 ],
 "metadata": {
  "kernelspec": {
   "display_name": "Python 3",
   "language": "python",
   "name": "python3"
  },
  "language_info": {
   "codemirror_mode": {
    "name": "ipython",
    "version": 3
   },
   "file_extension": ".py",
   "mimetype": "text/x-python",
   "name": "python",
   "nbconvert_exporter": "python",
   "pygments_lexer": "ipython3",
   "version": "3.13.0"
  }
 },
 "nbformat": 4,
 "nbformat_minor": 5
}
