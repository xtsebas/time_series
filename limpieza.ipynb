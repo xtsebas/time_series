{
 "cells": [
  {
   "cell_type": "code",
   "execution_count": null,
   "id": "f16fca53",
   "metadata": {},
   "outputs": [],
   "source": [
    "import os\n",
    "import pandas as pd"
   ]
  },
  {
   "cell_type": "markdown",
   "id": "7eb93ef4",
   "metadata": {},
   "source": [
    "# de XLSX a CSV"
   ]
  },
  {
   "cell_type": "code",
   "execution_count": null,
   "id": "91c888f2",
   "metadata": {},
   "outputs": [],
   "source": [
    "# Ruta a tu archivo Excel\n",
    "excel_file = './data/Estadisticas_historicas_comercializacion.xlsx'\n",
    "\n",
    "os.makedirs('data', exist_ok=True)\n",
    "\n",
    "# ajusta estos valores según tu archivo:\n",
    "skip_top = 6     # filas de encabezado a omitir\n",
    "skip_bottom = 3  # filas de pie de página a omitir\n",
    "\n",
    "df_import = pd.read_excel(\n",
    "    excel_file,\n",
    "    sheet_name='IMPORTACION',\n",
    "    engine='openpyxl',\n",
    "    skiprows=skip_top,\n",
    "    skipfooter=skip_bottom\n",
    ")\n",
    "df_consumo = pd.read_excel(\n",
    "    excel_file,\n",
    "    sheet_name='CONSUMO',\n",
    "    engine='openpyxl',\n",
    "    skiprows=skip_top,\n",
    "    skipfooter=skip_bottom\n",
    ")\n",
    "\n",
    "df_import.to_csv('data/importacion.csv', index=False, encoding='utf-8-sig')\n",
    "df_consumo.to_csv('data/consumo.csv',    index=False, encoding='utf-8-sig')\n",
    "\n",
    "print(\"Listo: data/importacion.csv y data/consumo.csv creados sin header ni footer.\")"
   ]
  }
 ],
 "metadata": {
  "language_info": {
   "name": "python"
  }
 },
 "nbformat": 4,
 "nbformat_minor": 5
}
